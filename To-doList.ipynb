{
 "cells": [
  {
   "cell_type": "code",
   "execution_count": 1,
   "id": "531540cb-e7fa-47c8-981d-656023567932",
   "metadata": {},
   "outputs": [
    {
     "name": "stdout",
     "output_type": "stream",
     "text": [
      "\n",
      "To-Do List Menu:\n",
      "1. View tasks\n",
      "2. Add task\n",
      "3. Delete task\n",
      "4. Quit\n"
     ]
    },
    {
     "name": "stdin",
     "output_type": "stream",
     "text": [
      "Enter your choice (1/2/3/4):  1\n"
     ]
    },
    {
     "name": "stdout",
     "output_type": "stream",
     "text": [
      "No tasks found.\n",
      "\n",
      "To-Do List Menu:\n",
      "1. View tasks\n",
      "2. Add task\n",
      "3. Delete task\n",
      "4. Quit\n"
     ]
    },
    {
     "name": "stdin",
     "output_type": "stream",
     "text": [
      "Enter your choice (1/2/3/4):  2\n",
      "Enter the new task:  cleaning\n"
     ]
    },
    {
     "name": "stdout",
     "output_type": "stream",
     "text": [
      "Task added: cleaning\n",
      "\n",
      "To-Do List Menu:\n",
      "1. View tasks\n",
      "2. Add task\n",
      "3. Delete task\n",
      "4. Quit\n"
     ]
    },
    {
     "name": "stdin",
     "output_type": "stream",
     "text": [
      "Enter your choice (1/2/3/4):  2\n",
      "Enter the new task:  washing clothes\n"
     ]
    },
    {
     "name": "stdout",
     "output_type": "stream",
     "text": [
      "Task added: washing clothes\n",
      "\n",
      "To-Do List Menu:\n",
      "1. View tasks\n",
      "2. Add task\n",
      "3. Delete task\n",
      "4. Quit\n"
     ]
    },
    {
     "name": "stdin",
     "output_type": "stream",
     "text": [
      "Enter your choice (1/2/3/4):  2\n",
      "Enter the new task:  go shopping for groceries\n"
     ]
    },
    {
     "name": "stdout",
     "output_type": "stream",
     "text": [
      "Task added: go shopping for groceries\n",
      "\n",
      "To-Do List Menu:\n",
      "1. View tasks\n",
      "2. Add task\n",
      "3. Delete task\n",
      "4. Quit\n"
     ]
    },
    {
     "name": "stdin",
     "output_type": "stream",
     "text": [
      "Enter your choice (1/2/3/4):  sweep and mop the house\n"
     ]
    },
    {
     "name": "stdout",
     "output_type": "stream",
     "text": [
      "Invalid choice. Please enter a number between 1 and 4.\n",
      "\n",
      "To-Do List Menu:\n",
      "1. View tasks\n",
      "2. Add task\n",
      "3. Delete task\n",
      "4. Quit\n"
     ]
    },
    {
     "name": "stdin",
     "output_type": "stream",
     "text": [
      "Enter your choice (1/2/3/4):  2\n",
      "Enter the new task:  sweep and mop the house\n"
     ]
    },
    {
     "name": "stdout",
     "output_type": "stream",
     "text": [
      "Task added: sweep and mop the house\n",
      "\n",
      "To-Do List Menu:\n",
      "1. View tasks\n",
      "2. Add task\n",
      "3. Delete task\n",
      "4. Quit\n"
     ]
    },
    {
     "name": "stdin",
     "output_type": "stream",
     "text": [
      "Enter your choice (1/2/3/4):  2\n",
      "Enter the new task:  trim the garden\n"
     ]
    },
    {
     "name": "stdout",
     "output_type": "stream",
     "text": [
      "Task added: trim the garden\n",
      "\n",
      "To-Do List Menu:\n",
      "1. View tasks\n",
      "2. Add task\n",
      "3. Delete task\n",
      "4. Quit\n"
     ]
    },
    {
     "name": "stdin",
     "output_type": "stream",
     "text": [
      "Enter your choice (1/2/3/4):  2\n",
      "Enter the new task:  do homewwork\n"
     ]
    },
    {
     "name": "stdout",
     "output_type": "stream",
     "text": [
      "Task added: do homewwork\n",
      "\n",
      "To-Do List Menu:\n",
      "1. View tasks\n",
      "2. Add task\n",
      "3. Delete task\n",
      "4. Quit\n"
     ]
    },
    {
     "name": "stdin",
     "output_type": "stream",
     "text": [
      "Enter your choice (1/2/3/4):  2\n",
      "Enter the new task:  attend sashas's party\n"
     ]
    },
    {
     "name": "stdout",
     "output_type": "stream",
     "text": [
      "Task added: attend sashas's party\n",
      "\n",
      "To-Do List Menu:\n",
      "1. View tasks\n",
      "2. Add task\n",
      "3. Delete task\n",
      "4. Quit\n"
     ]
    },
    {
     "name": "stdin",
     "output_type": "stream",
     "text": [
      "Enter your choice (1/2/3/4):  c2\n"
     ]
    },
    {
     "name": "stdout",
     "output_type": "stream",
     "text": [
      "Invalid choice. Please enter a number between 1 and 4.\n",
      "\n",
      "To-Do List Menu:\n",
      "1. View tasks\n",
      "2. Add task\n",
      "3. Delete task\n",
      "4. Quit\n"
     ]
    },
    {
     "name": "stdin",
     "output_type": "stream",
     "text": [
      "Enter your choice (1/2/3/4):  2\n",
      "Enter the new task:  come home at 11:00pm\n"
     ]
    },
    {
     "name": "stdout",
     "output_type": "stream",
     "text": [
      "Task added: come home at 11:00pm\n",
      "\n",
      "To-Do List Menu:\n",
      "1. View tasks\n",
      "2. Add task\n",
      "3. Delete task\n",
      "4. Quit\n"
     ]
    },
    {
     "name": "stdin",
     "output_type": "stream",
     "text": [
      "Enter your choice (1/2/3/4):  1\n"
     ]
    },
    {
     "name": "stdout",
     "output_type": "stream",
     "text": [
      "\n",
      "To-Do List:\n",
      "1. cleaning\n",
      "2. washing clothes\n",
      "3. go shopping for groceries\n",
      "4. sweep and mop the house\n",
      "5. trim the garden\n",
      "6. do homewwork\n",
      "7. attend sashas's party\n",
      "8. come home at 11:00pm\n",
      "\n",
      "To-Do List Menu:\n",
      "1. View tasks\n",
      "2. Add task\n",
      "3. Delete task\n",
      "4. Quit\n"
     ]
    },
    {
     "name": "stdin",
     "output_type": "stream",
     "text": [
      "Enter your choice (1/2/3/4):  3\n"
     ]
    },
    {
     "name": "stdout",
     "output_type": "stream",
     "text": [
      "\n",
      "To-Do List:\n",
      "1. cleaning\n",
      "2. washing clothes\n",
      "3. go shopping for groceries\n",
      "4. sweep and mop the house\n",
      "5. trim the garden\n",
      "6. do homewwork\n",
      "7. attend sashas's party\n",
      "8. come home at 11:00pm\n"
     ]
    },
    {
     "name": "stdin",
     "output_type": "stream",
     "text": [
      "Enter the task number to delete:  8\n"
     ]
    },
    {
     "name": "stdout",
     "output_type": "stream",
     "text": [
      "Task removed: come home at 11:00pm\n",
      "\n",
      "To-Do List Menu:\n",
      "1. View tasks\n",
      "2. Add task\n",
      "3. Delete task\n",
      "4. Quit\n"
     ]
    },
    {
     "name": "stdin",
     "output_type": "stream",
     "text": [
      "Enter your choice (1/2/3/4):  1\n"
     ]
    },
    {
     "name": "stdout",
     "output_type": "stream",
     "text": [
      "\n",
      "To-Do List:\n",
      "1. cleaning\n",
      "2. washing clothes\n",
      "3. go shopping for groceries\n",
      "4. sweep and mop the house\n",
      "5. trim the garden\n",
      "6. do homewwork\n",
      "7. attend sashas's party\n",
      "\n",
      "To-Do List Menu:\n",
      "1. View tasks\n",
      "2. Add task\n",
      "3. Delete task\n",
      "4. Quit\n"
     ]
    },
    {
     "name": "stdin",
     "output_type": "stream",
     "text": [
      "Enter your choice (1/2/3/4):  4\n"
     ]
    },
    {
     "name": "stdout",
     "output_type": "stream",
     "text": [
      "Exiting. Goodbye!\n"
     ]
    }
   ],
   "source": [
    "import os\n",
    "\n",
    "# Define the file to store the tasks\n",
    "TASKS_FILE = 'tasks.txt'\n",
    "\n",
    "def load_tasks():\n",
    "    \"\"\"Load tasks from the file.\"\"\"\n",
    "    if not os.path.exists(TASKS_FILE):\n",
    "        return []\n",
    "    \n",
    "    with open(TASKS_FILE, 'r') as file:\n",
    "        tasks = file.readlines()\n",
    "    return [task.strip() for task in tasks]\n",
    "\n",
    "def save_tasks(tasks):\n",
    "    \"\"\"Save tasks to the file.\"\"\"\n",
    "    with open(TASKS_FILE, 'w') as file:\n",
    "        for task in tasks:\n",
    "            file.write(task + '\\n')\n",
    "\n",
    "def view_tasks(tasks):\n",
    "    \"\"\"Display all tasks.\"\"\"\n",
    "    if not tasks:\n",
    "        print(\"No tasks found.\")\n",
    "        return\n",
    "    \n",
    "    print(\"\\nTo-Do List:\")\n",
    "    for i, task in enumerate(tasks, start=1):\n",
    "        print(f\"{i}. {task}\")\n",
    "\n",
    "def add_task(tasks):\n",
    "    \"\"\"Add a new task to the list.\"\"\"\n",
    "    task = input(\"Enter the new task: \").strip()\n",
    "    if task:\n",
    "        tasks.append(task)\n",
    "        print(f\"Task added: {task}\")\n",
    "\n",
    "def delete_task(tasks):\n",
    "    \"\"\"Delete a task from the list.\"\"\"\n",
    "    view_tasks(tasks)\n",
    "    try:\n",
    "        task_number = int(input(\"Enter the task number to delete: \"))\n",
    "        if 1 <= task_number <= len(tasks):\n",
    "            removed_task = tasks.pop(task_number - 1)\n",
    "            print(f\"Task removed: {removed_task}\")\n",
    "        else:\n",
    "            print(\"Invalid task number.\")\n",
    "    except ValueError:\n",
    "        print(\"Please enter a valid number.\")\n",
    "\n",
    "def main():\n",
    "    \"\"\"Main function to run the to-do list application.\"\"\"\n",
    "    tasks = load_tasks()\n",
    "    \n",
    "    while True:\n",
    "        print(\"\\nTo-Do List Menu:\")\n",
    "        print(\"1. View tasks\")\n",
    "        print(\"2. Add task\")\n",
    "        print(\"3. Delete task\")\n",
    "        print(\"4. Quit\")\n",
    "        \n",
    "        choice = input(\"Enter your choice (1/2/3/4): \").strip()\n",
    "        \n",
    "        if choice == '1':\n",
    "            view_tasks(tasks)\n",
    "        elif choice == '2':\n",
    "            add_task(tasks)\n",
    "            save_tasks(tasks)\n",
    "        elif choice == '3':\n",
    "            delete_task(tasks)\n",
    "            save_tasks(tasks)\n",
    "        elif choice == '4':\n",
    "            print(\"Exiting. Goodbye!\")\n",
    "            break\n",
    "        else:\n",
    "            print(\"Invalid choice. Please enter a number between 1 and 4.\")\n",
    "\n",
    "if __name__ == \"__main__\":\n",
    "    main()\n"
   ]
  }
 ],
 "metadata": {
  "kernelspec": {
   "display_name": "Python 3 (ipykernel)",
   "language": "python",
   "name": "python3"
  },
  "language_info": {
   "codemirror_mode": {
    "name": "ipython",
    "version": 3
   },
   "file_extension": ".py",
   "mimetype": "text/x-python",
   "name": "python",
   "nbconvert_exporter": "python",
   "pygments_lexer": "ipython3",
   "version": "3.12.4"
  }
 },
 "nbformat": 4,
 "nbformat_minor": 5
}
