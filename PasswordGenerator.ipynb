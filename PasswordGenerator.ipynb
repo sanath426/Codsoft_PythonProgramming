{
 "cells": [
  {
   "cell_type": "code",
   "execution_count": 4,
   "id": "bef67b76-16e1-4f20-8b89-e81016fc7991",
   "metadata": {},
   "outputs": [
    {
     "name": "stdin",
     "output_type": "stream",
     "text": [
      "Enter the desired password length:  20\n",
      "Include symbols? (y/n):  y\n"
     ]
    },
    {
     "name": "stdout",
     "output_type": "stream",
     "text": [
      "Generated Password: }T/C0kM>3$<A[3{B<C03\n"
     ]
    }
   ],
   "source": [
    "import string\n",
    "import secrets\n",
    "\n",
    "def generate_password(length=12, use_symbols=True):\n",
    "    \"\"\"Generate a secure random password.\n",
    "\n",
    "    Args:\n",
    "        length (int): Length of the password.\n",
    "        use_symbols (bool): Whether to include symbols in the password.\n",
    "\n",
    "    Returns:\n",
    "        str: The generated password.\n",
    "    \"\"\"\n",
    "    # Define the character sets to use\n",
    "    letters = string.ascii_letters\n",
    "    digits = string.digits\n",
    "    symbols = string.punctuation if use_symbols else ''\n",
    "    \n",
    "    # Combine all character sets\n",
    "    all_characters = letters + digits + symbols\n",
    "    \n",
    "    if not all_characters:\n",
    "        raise ValueError(\"At least one character set must be used.\")\n",
    "    \n",
    "    # Generate the password\n",
    "    password = ''.join(secrets.choice(all_characters) for _ in range(length))\n",
    "    \n",
    "    return password\n",
    "\n",
    "# Example usage\n",
    "if __name__ == \"__main__\":\n",
    "    length = int(input(\"Enter the desired password length: \"))\n",
    "    use_symbols = input(\"Include symbols? (y/n): \").strip().lower() == 'y'\n",
    "    \n",
    "    print(\"Generated Password:\", generate_password(length, use_symbols))\n"
   ]
  },
  {
   "cell_type": "code",
   "execution_count": null,
   "id": "236d3fe1-b001-407d-a7f6-7d8321f88372",
   "metadata": {},
   "outputs": [],
   "source": []
  }
 ],
 "metadata": {
  "kernelspec": {
   "display_name": "Python 3 (ipykernel)",
   "language": "python",
   "name": "python3"
  },
  "language_info": {
   "codemirror_mode": {
    "name": "ipython",
    "version": 3
   },
   "file_extension": ".py",
   "mimetype": "text/x-python",
   "name": "python",
   "nbconvert_exporter": "python",
   "pygments_lexer": "ipython3",
   "version": "3.12.4"
  }
 },
 "nbformat": 4,
 "nbformat_minor": 5
}
